{
 "cells": [
  {
   "cell_type": "markdown",
   "metadata": {
    "hideCode": false,
    "hidePrompt": false
   },
   "source": [
    "This notebook is for automatically extracting a single 3d surface from multiple slice-wise 2d segmentations.\n",
    "It relies on the Hausdorff distance, and a single given seed annotation.\n",
    "\n",
    "It works by iterating over every slice (marching away from the seeded slice), finding the annotation with the closest hausdorff distance to the current one, then repeating this process until the end of the cell is reached."
   ]
  },
  {
   "cell_type": "code",
   "execution_count": 3,
   "metadata": {
    "hideCode": false,
    "hidePrompt": false,
    "pycharm": {
     "is_executing": false
    }
   },
   "outputs": [],
   "source": [
    "import data_loader\n",
    "from distance_measures import hausdorff_vec\n",
    "import numpy as np\n",
    "import matplotlib.pyplot as plt\n",
    "from os.path import join, exists\n",
    "from os import makedirs"
   ]
  },
  {
   "cell_type": "code",
   "execution_count": 4,
   "metadata": {
    "hideCode": false,
    "hidePrompt": false
   },
   "outputs": [],
   "source": [
    "data = data_loader.DataLoader()  # will take a while to run as big df is read"
   ]
  },
  {
   "cell_type": "code",
   "execution_count": 5,
   "metadata": {},
   "outputs": [],
   "source": [
    "roi_id = 'ROI_1656-6756-329'\n",
    "img_volume = data_loader.get_img_volume(roi_id)"
   ]
  },
  {
   "cell_type": "markdown",
   "metadata": {
    "hideCode": false,
    "hidePrompt": false
   },
   "source": [
    "##### Extract similar lines given initial seed"
   ]
  },
  {
   "cell_type": "code",
   "execution_count": 7,
   "metadata": {},
   "outputs": [],
   "source": [
    "num_slices, width, height = img_volume.shape\n",
    "\n",
    "chosen_seed_slice = 150     # axial/z index of seed slice\n",
    "chosen_seed_annotation = 8  # which annotation is the best for the seed slice?\n",
    "\n",
    "# ??\n",
    "seed_slice = 150     # axial/z index of seed slice\n",
    "seed_annotation = 8  # which annotation is the best for the seed slice?\n",
    "\n",
    "annotation_set = {s: None for s in range(num_slices)}\n",
    "annotation_set[seed_slice] = seed_annotation  # list of predicted best annotations per slice"
   ]
  },
  {
   "cell_type": "code",
   "execution_count": 8,
   "metadata": {},
   "outputs": [],
   "source": [
    "def process(range_):\n",
    "  \n",
    "  seed_slice = chosen_seed_slice\n",
    "  seed_annotation = chosen_seed_annotation\n",
    "  slice_annotations = data.get_annotations(roi_id, seed_slice)\n",
    "  best_annotation_vec = data_loader.annotation_to_vec(slice_annotations[seed_annotation])\n",
    "\n",
    "  for seed_slice in range_:\n",
    "    min_hausdorff = np.inf  # smallest found hausdorff distance between previous slice and this one\n",
    "    min_hausdorff_annotation_index = 0  # index of the annotation in this slice that is closest to previous\n",
    "    slice_annotations = data.get_annotations(roi_id, seed_slice)\n",
    "    if not slice_annotations:\n",
    "      break\n",
    "\n",
    "    for annotation_index, annotation in enumerate(slice_annotations):\n",
    "      candidate_vec = data_loader.annotation_to_vec(annotation)\n",
    "\n",
    "      if len(candidate_vec) == 0: # empty vector\n",
    "        continue\n",
    "      elif len(candidate_vec) > 20000: # too many, will cause memory overflow.\n",
    "        step = np.ceil(len(candidate_vec) / 20000)\n",
    "        candidate_vec = candidate_vec[::int(step)] # sample...\n",
    "\n",
    "      haudorff_distance = hausdorff_vec(best_annotation_vec, candidate_vec)    \n",
    "      if haudorff_distance < min_hausdorff:\n",
    "        min_hausdorff = haudorff_distance\n",
    "        min_hausdorff_annotation_index = annotation_index\n",
    "\n",
    "    annotation_set[seed_slice] = min_hausdorff_annotation_index\n",
    "    best_annotation_vec =  data_loader.annotation_to_vec(slice_annotations[min_hausdorff_annotation_index])\n",
    "#   print(f'closest to {seed_slice} is {min_hausdorff_annotation_index} with distance {min_hausdorff}')"
   ]
  },
  {
   "cell_type": "code",
   "execution_count": 9,
   "metadata": {},
   "outputs": [],
   "source": [
    "process(range(chosen_seed_slice+1, num_slices))\n",
    "process(reversed(range(0, chosen_seed_slice)))"
   ]
  },
  {
   "cell_type": "markdown",
   "metadata": {},
   "source": [
    "##### Compile discovered annotation set into image volume\n",
    "I realise that process() could call a func to save annotation images, which would be more efficient."
   ]
  },
  {
   "cell_type": "code",
   "execution_count": null,
   "metadata": {},
   "outputs": [],
   "source": [
    "dpi=200\n",
    "x_scale = width / 1000\n",
    "y_scale = height / 1000\n",
    "fig = plt.figure(frameon=False, figsize=(width//dpi, height//dpi), dpi=dpi)\n",
    "ax = plt.Axes(fig, [0., 0., 1., 1.])\n",
    "ax.set_axis_off()\n",
    "fig.add_axes(ax)\n",
    "\n",
    "def save_annotations_as_images(save_dir, annotation_set):\n",
    "  \n",
    "  for slice_num in range(num_slices):\n",
    "  \n",
    "    annotation_index = annotation_set[slice_num]\n",
    "    \n",
    "    if annotation_index is not None:\n",
    "      ax.clear()\n",
    "      canvas = np.zeros((width, height))\n",
    "      ax.imshow(canvas, cmap='gray')\n",
    "      current_slice_annotations = data.get_annotations(roi_id, slice_num)\n",
    "      list_of_vectors = [np.array(eval(points)) for points in current_slice_annotations[annotation_index]['points']]\n",
    "      for vec in list_of_vectors:\n",
    "        vec[:, 0] *= x_scale\n",
    "        vec[:, 1] *= y_scale\n",
    "        ax.plot(vec[:, 0], vec[:, 1], color='white', alpha=1, linewidth=1.0, antialiased=False)\n",
    "\n",
    "    save_path = join(save_dir, str(slice_num)+'.png') \n",
    "    fig.savefig(save_path)"
   ]
  },
  {
   "cell_type": "code",
   "execution_count": null,
   "metadata": {},
   "outputs": [],
   "source": [
    "ROOT_SAVE_DIR = 'hausdorff_marching_aggregations'\n",
    "save_dir = join(ROOT_SAVE_DIR, roi_id)\n",
    "if not exists(save_dir):\n",
    "  makedirs(save_dir)  \n",
    "save_annotations_as_images(save_dir, annotation_set)"
   ]
  }
 ],
 "metadata": {
  "hide_code_all_hidden": true,
  "kernelspec": {
   "display_name": "Python 3",
   "language": "python",
   "name": "python3"
  },
  "language_info": {
   "codemirror_mode": {
    "name": "ipython",
    "version": 3
   },
   "file_extension": ".py",
   "mimetype": "text/x-python",
   "name": "python",
   "nbconvert_exporter": "python",
   "pygments_lexer": "ipython3",
   "version": "3.7.2"
  },
  "pycharm": {
   "stem_cell": {
    "cell_type": "raw",
    "metadata": {
     "collapsed": false
    },
    "source": []
   }
  }
 },
 "nbformat": 4,
 "nbformat_minor": 2
}
