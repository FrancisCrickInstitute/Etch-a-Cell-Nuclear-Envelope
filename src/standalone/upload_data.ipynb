{
 "cells": [
  {
   "cell_type": "markdown",
   "metadata": {},
   "source": [
    "# Upload data to the Zooniverse\n"
   ]
  },
  {
   "cell_type": "markdown",
   "metadata": {},
   "source": [
    "## Installing dependencies\n",
    "First of all, we need to install Zooniverse's ```panoptes_client``` library to be able to interact with the server.\n",
    "\n",
    "For information about how Zooniverse projects are set up, visit the [Project Builder how-to](https://help.zooniverse.org/getting-started/)"
   ]
  },
  {
   "cell_type": "code",
   "execution_count": null,
   "metadata": {},
   "outputs": [],
   "source": [
    "!pip install --user panoptes_client"
   ]
  },
  {
   "cell_type": "markdown",
   "metadata": {},
   "source": [
    "## Set up Zooniverse project information\n",
    "Each project and workflow has a unique identifier, edit below to reflect your project."
   ]
  },
  {
   "cell_type": "code",
   "execution_count": null,
   "metadata": {},
   "outputs": [],
   "source": [
    "PROJECT_ID = \"h-spiers/etch-a-cell\"   # Change this to the project location, taken from the URL, e.g. https://www.zooniverse.org/projects/h-spiers/etch-a-cell\n",
    "DATA_DIR = \"/path/to/my/jpeg/files\"\n",
    "USERNAME = \"enter_your_user_name_here\"\n",
    "PREFIX = \"prefix_of_your_data\"   # e.g. filename HeLa_cell2_Run1_0003.jpg, use prefix like \"HeLa_cell2_Run1_\"\n",
    "OUTPUT_PREFIX = \"Subject_Prefix\" # adds a prefix to the uploaded subjects to help with bookkeeping\n",
    "TILE_X = 1    # Keeps track of tiling of raw image - for Etch a Cell there was no additional tiling of ROIs\n",
    "TILE_Y = 1"
   ]
  },
  {
   "cell_type": "markdown",
   "metadata": {},
   "source": [
    "Import the necessary libraries and modules"
   ]
  },
  {
   "cell_type": "code",
   "execution_count": null,
   "metadata": {},
   "outputs": [],
   "source": [
    "from panoptes_client import Project, Panoptes, Subject, SubjectSet\n",
    "import glob\n",
    "import os\n",
    "import sys\n",
    "import getpass\n",
    "import re"
   ]
  },
  {
   "cell_type": "markdown",
   "metadata": {},
   "source": [
    "## Set up properties for image upload\n",
    "Each __subject__ in an Etch a Cell project on the Zooniverse usually consists of several images arranged in a __flipbook__. For 3D data, this allows us to provide some context for the volunteer to see how the structures change in nearby z-slices. \n",
    "\n",
    "For organelles and structures of different sizes, the spacing between these z-slices can vary, so we set that here. The variable `SPAN` is how many images above and below the central image we include in the subject. E.g. `SPAN = 2` is the central slice plus 2 from above and 2 from below (a total of 5 images). The variable `STEP` is the distance between these images (in slices), e.g. a `SPAN = 2` and `STEP = 10`, centred on slice 50 would include the slices [30, 40, 50, 60, 70] in the subject."
   ]
  },
  {
   "cell_type": "code",
   "execution_count": null,
   "metadata": {},
   "outputs": [],
   "source": [
    "SPAN = 2\n",
    "STEP = 1"
   ]
  },
  {
   "cell_type": "markdown",
   "metadata": {},
   "source": [
    "When building a subject, we need to attach the set of images that we have chosen and fill in some metadata so we can track important information about the experiment. Additional metadata fields can be added as, e.g. `subject.metadata['New field'] = 'New field information'`"
   ]
  },
  {
   "cell_type": "code",
   "execution_count": null,
   "metadata": {},
   "outputs": [],
   "source": [
    "# This function builds the subject from the chosen set of images and attaches metadata\n",
    "def build_subject(project, file_list, centre_idx, span, step):\n",
    "    subject = Subject() # Inititialise a subject\n",
    "    subject.links.project = project # ...attach it to a project\n",
    "    subject.metadata['Subject ID'] = centre_idx - step * span + 1 # Add the names of the images\n",
    "    \n",
    "    # For loop to attach the images to the subject one-by-one\n",
    "    for i, idx in enumerate(range(centre_idx - step * span, centre_idx + step * span + 1, step)):\n",
    "        fname = str(file_list[idx])\n",
    "        print(\"Attaching %s to subject %d\" % (os.path.basename(fname), centre_idx - step * span + 1))\n",
    "        subject.add_location(fname)\n",
    "        subject.metadata['Image %d' % i] = os.path.basename(fname)\n",
    "    subject.metadata['default_frame'] = span + 1  # We want people to annotate the middle image\n",
    "  \n",
    "    # Metadata from here should be changed according to the data\n",
    "    subject.metadata['Microscope'] = 'SBF SEM'\n",
    "    subject.metadata['Raw XY resolution (nm)'] = 10\n",
    "    subject.metadata['Raw Z resolution (nm)'] = 50\n",
    "    subject.metadata['Scaling factor'] = 2   # The scaling between the raw ROI and jpeg image\n",
    "    subject.metadata['jpeg quality (%)'] = 90\n",
    "    subject.metadata['Attribution'] = 'Person who acquired the data'\n",
    "    subject.metadata['Description'] = 'Free text description of the data'\n",
    "    print(\"Starting to save\")\n",
    "    print(subject)\n",
    "    subject.save()\n",
    "    print(\"Subject saved\")\n",
    "\n",
    "    return subject\n",
    "\n"
   ]
  },
  {
   "cell_type": "markdown",
   "metadata": {},
   "source": [
    "This function connects to the Zooniverse, make sure the Project ID and username were set correctly earlier."
   ]
  },
  {
   "cell_type": "code",
   "execution_count": null,
   "metadata": {},
   "outputs": [],
   "source": [
    "def connect_to_zooniverse(project_id=PROJECT_ID, user_name=USERNAME):\n",
    "    try:\n",
    "        password = getpass.getpass(prompt='Password: ', stream=None)\n",
    "        Panoptes.connect(username=user_name, password=password)\n",
    "        print(\"Connected to Zooniverse\")\n",
    "    except Exception as e:\n",
    "        print(\"Couldn't connect to Zooniverse\")\n",
    "        print(\"Exception {}\".format(e))\n",
    "        sys.exit(1)\n",
    "    print(f\"Connecting to {project_id}...\")\n",
    "    project = Project.find(slug=project_id)\n",
    "    print(\"...connected!\")\n",
    "    return project"
   ]
  },
  {
   "cell_type": "code",
   "execution_count": null,
   "metadata": {},
   "outputs": [],
   "source": [
    "# Helper function to initialise a \"subject set\" and attach it to a project\n",
    "def initialise_subject_set(project, subject_name):\n",
    "    subject_set = SubjectSet()\n",
    "    subject_set.links.project = project\n",
    "    subject_set.display_name = subject_name\n",
    "    subject_set.save()\n",
    "    return subject_set\n",
    "\n",
    "# Helper function to read all of the jpegs in a directory that have the given prefix\n",
    "def get_image_list(input_directory, prefix):\n",
    "    file_list = glob.glob(os.path.join(input_directory, prefix + '*.jpg'))\n",
    "    n_files = len(file_list)\n",
    "    print(f\"There are {n_files} jpg files in the directory with prefix {prefix}\")\n",
    "    return file_list, n_files\n",
    "\n",
    "\n",
    "# Function to build a subject set from a fixed range of images\n",
    "def build_subject_set(project, file_list, file_idx_start, file_idx_stop, span, step):\n",
    "    print(f\"Building subject set from files {file_idx_start}-{file_idx_stop-1}\")\n",
    "    subjects = []\n",
    "    min_idx = 0\n",
    "    max_idx = len(file_list)\n",
    "\n",
    "    for centre_idx in range(max(min_idx, file_idx_start), min(max_idx, file_idx_stop)):\n",
    "        subject = build_subject(project, file_list, centre_idx, span, step)\n",
    "        subjects.append(subject)\n",
    "    return subjects\n",
    "\n"
   ]
  },
  {
   "cell_type": "markdown",
   "metadata": {},
   "source": [
    "Connect to the Zooniverse using your credentials"
   ]
  },
  {
   "cell_type": "code",
   "execution_count": null,
   "metadata": {},
   "outputs": [],
   "source": [
    "project = connect_to_zooniverse(project_id=PROJECT_ID)"
   ]
  },
  {
   "cell_type": "markdown",
   "metadata": {},
   "source": [
    "To allow fine-control over the data that is active in the project, it is useful to split the data into multiple subject sets. If all data is uploaded at once, then the time taken to achieve retirement for any given image is very long. By uploading smaller subject sets it is possible to start getting completed subjects much earlier, allowing downstream data analysis to be developed early and refined as more completed data arrives. This requires more effort on the project owner's part as they must monitor the progress of the project and attach new subject sets to the project as others are completed.\n",
    "\n",
    "A good strategy is to have chunks of sequential images making up each subject set, since contiguous 3D volumes are most useful for 3D machine learning strategies. However, the nature of some types of microscopy (e.g. FIB SEM) means that many of these nearby slices will look nearly identical. Attaching multiple small subject sets from distant parts of the sample prevents volunteers from being presented with nearly identical images in quick succession. \n",
    "\n",
    "The variable `subject_set_size` defines how many subjects are to be attached to each subject set. The minimum useful number of slices is around 20, since that should be compatible with most 3D machine learning approaches, but small subject sets are also more labour intensive for project owners to curate. "
   ]
  },
  {
   "cell_type": "code",
   "execution_count": null,
   "metadata": {},
   "outputs": [],
   "source": [
    "subject_set_size = 100  # typically around 100 should be OK"
   ]
  },
  {
   "cell_type": "markdown",
   "metadata": {},
   "source": [
    "Check for files in your local data directory to upload"
   ]
  },
  {
   "cell_type": "code",
   "execution_count": null,
   "metadata": {},
   "outputs": [],
   "source": [
    "file_list, n_files = get_image_list(DATA_DIR, PREFIX)\n",
    "file_list.sort()\n",
    "file_basenames = [os.path.basename(file) for file in file_list]\n",
    "file_basename_prefixes = [file.split('_z')[0] for file in file_basenames]"
   ]
  },
  {
   "cell_type": "markdown",
   "metadata": {},
   "source": [
    "Note that we can only build subjects around slices that have enough slices above and below to fulfil the `SPAN` and `STEP` settings. For example, for `SPAN=2` and `STEP=10`, the first slice that we can build into a subject (as the central slice) is the 20th slice, so the subject would contain slices [0, 10, 20, 30, 40].\n",
    "\n",
    "The subject set name is set as the raw data file prefix followed by the x, y coordinates of the top-left pixel of the crop from the raw data, followed by the range of z-values in the subject set. For example, a raw file with a prefix `HeLa_cell2_Run1_Tile_*.tif`, starting at (x, y) = (2334, 0000) and containing z-slices from 20 to 119 will have the subject-set name: `HeLa_cell2_Run1_Tile_x2334_y0000_z0020-0119`\n",
    "\n",
    "### Note: this can be a very slow process to upload!"
   ]
  },
  {
   "cell_type": "code",
   "execution_count": null,
   "metadata": {},
   "outputs": [],
   "source": [
    "# TODO: Investigate speeding up the upload by using the \"async_saves()\" function in Panoptes\n",
    "prefix, z_str = file_list[0].split('_z')\n",
    "minimum_z = int(z_str.split('.jpg')[0])\n",
    "starting_index = SPAN * STEP + minimum_z  # This is the first index that we can build a 5 slice subject from\n",
    "found_subjects_to_upload = False\n",
    "for counter, list_start_abs in enumerate(range(starting_index, starting_index + n_files, subject_set_size)):\n",
    "    print(f\"\\n*******\\nStep {counter}\")\n",
    "    list_start = list_start_abs - starting_index # Make sure we subtract the offset\n",
    "    # Perform some text manipulation to extract the x, y, z values from the file name\n",
    "    file_name = os.path.split(file_list[list_start_abs])[-1]\n",
    "    prefix, z_str = file_name.split('_z')\n",
    "    xy_str = prefix.split('_x')[-1]\n",
    "    x_str, y_str = xy_str.split('_y')\n",
    "    z_start = z_str.split('.jpg')[0]\n",
    "    z_end = int(z_start) + subject_set_size - 1\n",
    "    print(f\"List start (abs): {list_start_abs}\\n\"\n",
    "      f\"List start: {list_start}\\n\"\n",
    "      f\"Z start: {z_start}\\n\"\n",
    "      f\"Filename: {file_name}\\n\"\n",
    "      f\"Start index: {starting_index}\\n\")\n",
    "    if int(z_start) < (starting_index) or int(z_end) > (starting_index + n_files - SPAN*STEP):  # Skip the highest and lowest z slices\n",
    "        print(f\"Skipping, can't build {2*SPAN+1} slice subject from slice {z_start}\")\n",
    "        continue\n",
    "    found_subjects_to_upload = True\n",
    "    list_end = list_start + subject_set_size\n",
    "    list_end_abs = list_start_abs + subject_set_size\n",
    "\n",
    "    subject_set_name = f\"{OUTPUT_PREFIX}_S{SPAN}_{STEP}_{prefix}_z{z_start}-{z_end:04d}\"\n",
    "    print(subject_set_name)\n",
    "    try:\n",
    "        subject_set = initialise_subject_set(project, subject_set_name)\n",
    "    except:\n",
    "        print(f\"Subject set name {subject_set_name} appears to already be taken, skipping\\n\\n\")\n",
    "        continue\n",
    "        # TODO: output a logfile with skipped subject set names\n",
    "    print(f\"Creating subject set name {subject_set_name}\\n\\n\")\n",
    "    subjects = build_subject_set(project, file_list, list_start_abs, list_end_abs, SPAN, STEP)\n",
    "    subject_set.add(subjects)\n"
   ]
  }
 ],
 "metadata": {
  "kernelspec": {
   "display_name": "Python 3",
   "language": "python",
   "name": "python3"
  },
  "language_info": {
   "codemirror_mode": {
    "name": "ipython",
    "version": 3
   },
   "file_extension": ".py",
   "mimetype": "text/x-python",
   "name": "python",
   "nbconvert_exporter": "python",
   "pygments_lexer": "ipython3",
   "version": "3.6.10"
  }
 },
 "nbformat": 4,
 "nbformat_minor": 2
}
